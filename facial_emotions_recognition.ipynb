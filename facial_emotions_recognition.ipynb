{
  "nbformat": 4,
  "nbformat_minor": 0,
  "metadata": {
    "colab": {
      "provenance": [],
      "gpuType": "T4"
    },
    "kernelspec": {
      "name": "python3",
      "display_name": "Python 3"
    },
    "language_info": {
      "name": "python"
    },
    "accelerator": "GPU"
  },
  "cells": [
    {
      "cell_type": "code",
      "execution_count": 1,
      "metadata": {
        "colab": {
          "base_uri": "https://localhost:8080/",
          "height": 0
        },
        "id": "7LLRixc7vrXM",
        "outputId": "a12b67e5-54f9-4377-daf9-51ac2696fe6a"
      },
      "outputs": [
        {
          "output_type": "stream",
          "name": "stdout",
          "text": [
            "Cloning into 'facial_expressions'...\n",
            "remote: Enumerating objects: 14214, done.\u001b[K\n",
            "remote: Total 14214 (delta 0), reused 0 (delta 0), pack-reused 14214\u001b[K\n",
            "Receiving objects: 100% (14214/14214), 239.65 MiB | 37.52 MiB/s, done.\n",
            "Resolving deltas: 100% (223/223), done.\n",
            "Updating files: 100% (13996/13996), done.\n"
          ]
        }
      ],
      "source": [
        "!git clone https://github.com/muxspace/facial_expressions.git"
      ]
    },
    {
      "cell_type": "code",
      "source": [
        "import csv\n",
        "data={}\n",
        "with open('/content/facial_expressions/data/legend.csv')as f:\n",
        "  reader=csv.reader(f)\n",
        "  next(reader)\n",
        "  for row in reader:\n",
        "    key=row[2]\n",
        "    if key in data:\n",
        "      data[key].append(row[1])\n",
        "    else:\n",
        "      data[key]=[row[1]]\n"
      ],
      "metadata": {
        "id": "VrD7cTfHwZKo"
      },
      "execution_count": 2,
      "outputs": []
    },
    {
      "cell_type": "code",
      "source": [
        "emotion_list=list(data.keys())\n",
        "emotion_list"
      ],
      "metadata": {
        "colab": {
          "base_uri": "https://localhost:8080/",
          "height": 0
        },
        "id": "-UfhorCO6dYZ",
        "outputId": "5b5e0426-148b-4631-d98d-faca403984da"
      },
      "execution_count": 3,
      "outputs": [
        {
          "output_type": "execute_result",
          "data": {
            "text/plain": [
              "['anger',\n",
              " 'surprise',\n",
              " 'disgust',\n",
              " 'fear',\n",
              " 'neutral',\n",
              " 'happiness',\n",
              " 'sadness',\n",
              " 'contempt',\n",
              " 'NEUTRAL',\n",
              " 'SADNESS',\n",
              " 'DISGUST',\n",
              " 'FEAR',\n",
              " 'SURPRISE',\n",
              " 'ANGER',\n",
              " 'HAPPINESS']"
            ]
          },
          "metadata": {},
          "execution_count": 3
        }
      ]
    },
    {
      "cell_type": "code",
      "source": [
        "import os\n",
        "os.mkdir('master_data')\n",
        "os.mkdir('master_data/training')\n",
        "os.mkdir('master_data/testing')"
      ],
      "metadata": {
        "id": "mljOt9ke6stK"
      },
      "execution_count": 4,
      "outputs": []
    },
    {
      "cell_type": "code",
      "source": [
        "for emotion in emotion_list:\n",
        "  os.mkdir(os.path.join('master_data/training/',emotion))\n",
        "  os.mkdir(os.path.join('master_data/testing/',emotion))"
      ],
      "metadata": {
        "id": "nMx30v2Q7FdW"
      },
      "execution_count": 5,
      "outputs": []
    },
    {
      "cell_type": "code",
      "source": [
        "from shutil import copyfile\n",
        "split_size=0.8\n",
        "for emotion,images in data.items():\n",
        "  train_size=int(split_size*len(images))\n",
        "  train_images=images[:train_size]\n",
        "  test_images=images[train_size:]\n",
        "  for image in train_images:\n",
        "    source = os.path.join('/content/facial_expressions/images',image)\n",
        "    dest = os.path.join('/content/master_data/training',emotion,image)\n",
        "    copyfile(source,dest)\n",
        "  for image in test_images:\n",
        "    ource=os.path.join('/content/facial_expression/images',image)\n",
        "    dest=os.path.join('/content/master_data/training',emotion,image)\n",
        "    copyfile(source,dest)"
      ],
      "metadata": {
        "id": "TKRyxN7uaW-c"
      },
      "execution_count": 6,
      "outputs": []
    },
    {
      "cell_type": "code",
      "source": [
        "import tensorflow as tf\n",
        "from tensorflow.keras.preprocessing.image import ImageDataGenerator\n",
        "from tensorflow.keras.optimizers import Adam\n",
        "from tensorflow.keras.callbacks import EarlyStopping\n",
        "from tensorflow.keras.layers import Conv2D,MaxPooling2D,Dense,Flatten"
      ],
      "metadata": {
        "id": "DdELhknGd3Q5"
      },
      "execution_count": 7,
      "outputs": []
    },
    {
      "cell_type": "code",
      "source": [
        "model=tf.keras.models.Sequential([\n",
        "     Conv2D(16,(3,3),activation='relu',input_shape=(100,100,3)),\n",
        "     MaxPooling2D(2,2),\n",
        "     Conv2D(32,(3,3),activation='relu'),\n",
        "     MaxPooling2D(2,2),\n",
        "     Conv2D(64,(3,3),activation='relu'),\n",
        "     MaxPooling2D(2,2),\n",
        "     Flatten(),\n",
        "     Dense(512,activation='relu'),\n",
        "     Dense(15,activation='softmax')])\n",
        "model.compile(optimizer=Adam(lr=0.01),loss='categorical_crossentropy',metrics=['acc'])\n",
        "model.summary()"
      ],
      "metadata": {
        "id": "5laoIz5XG2q_",
        "outputId": "50c9617c-1058-4178-cdfe-c6dfbf28f1fe",
        "colab": {
          "base_uri": "https://localhost:8080/",
          "height": 0
        }
      },
      "execution_count": 8,
      "outputs": [
        {
          "output_type": "stream",
          "name": "stderr",
          "text": [
            "WARNING:absl:`lr` is deprecated in Keras optimizer, please use `learning_rate` or use the legacy optimizer, e.g.,tf.keras.optimizers.legacy.Adam.\n"
          ]
        },
        {
          "output_type": "stream",
          "name": "stdout",
          "text": [
            "Model: \"sequential\"\n",
            "_________________________________________________________________\n",
            " Layer (type)                Output Shape              Param #   \n",
            "=================================================================\n",
            " conv2d (Conv2D)             (None, 98, 98, 16)        448       \n",
            "                                                                 \n",
            " max_pooling2d (MaxPooling2  (None, 49, 49, 16)        0         \n",
            " D)                                                              \n",
            "                                                                 \n",
            " conv2d_1 (Conv2D)           (None, 47, 47, 32)        4640      \n",
            "                                                                 \n",
            " max_pooling2d_1 (MaxPoolin  (None, 23, 23, 32)        0         \n",
            " g2D)                                                            \n",
            "                                                                 \n",
            " conv2d_2 (Conv2D)           (None, 21, 21, 64)        18496     \n",
            "                                                                 \n",
            " max_pooling2d_2 (MaxPoolin  (None, 10, 10, 64)        0         \n",
            " g2D)                                                            \n",
            "                                                                 \n",
            " flatten (Flatten)           (None, 6400)              0         \n",
            "                                                                 \n",
            " dense (Dense)               (None, 512)               3277312   \n",
            "                                                                 \n",
            " dense_1 (Dense)             (None, 15)                7695      \n",
            "                                                                 \n",
            "=================================================================\n",
            "Total params: 3308591 (12.62 MB)\n",
            "Trainable params: 3308591 (12.62 MB)\n",
            "Non-trainable params: 0 (0.00 Byte)\n",
            "_________________________________________________________________\n"
          ]
        }
      ]
    },
    {
      "cell_type": "code",
      "source": [
        "train_dir='/content/master_data/training'\n",
        "test_dir='/content/master_data/testing'\n",
        "train_datagen=ImageDataGenerator(rescale=1.0/255)\n",
        "train_generator=train_datagen.flow_from_directory(train_dir,target_size=(100,100),class_mode='categorical',batch_size=128)\n",
        "\n",
        "test_datagen=ImageDataGenerator(rescale=1.0/255)\n",
        "test_generator=test_datagen.flow_from_directory(train_dir,target_size=(100,100),class_mode='categorical',batch_size=128)"
      ],
      "metadata": {
        "id": "f-YYGOVfNfe4",
        "outputId": "9ac75dff-f345-44db-8908-aaf1e2098e11",
        "colab": {
          "base_uri": "https://localhost:8080/",
          "height": 0
        }
      },
      "execution_count": 9,
      "outputs": [
        {
          "output_type": "stream",
          "name": "stdout",
          "text": [
            "Found 13683 images belonging to 15 classes.\n",
            "Found 13683 images belonging to 15 classes.\n"
          ]
        }
      ]
    },
    {
      "cell_type": "code",
      "source": [
        "es=EarlyStopping(monitor='val_acc',patience=2,min_delta=0.01)"
      ],
      "metadata": {
        "id": "XJeVsU2hTFdc"
      },
      "execution_count": 10,
      "outputs": []
    },
    {
      "cell_type": "code",
      "source": [
        "model.fit(train_generator,\n",
        "                    epochs=10,\n",
        "                    verbose=1,\n",
        "                    validation_data=test_generator,\n",
        "                    callbacks=[es])"
      ],
      "metadata": {
        "id": "mbRnJ3geTYvt",
        "outputId": "27e5480e-9e4f-4146-beaa-f45b26c307f2",
        "colab": {
          "base_uri": "https://localhost:8080/",
          "height": 0
        }
      },
      "execution_count": 11,
      "outputs": [
        {
          "output_type": "stream",
          "name": "stdout",
          "text": [
            "Epoch 1/10\n",
            "107/107 [==============================] - 37s 295ms/step - loss: 0.9166 - acc: 0.6595 - val_loss: 0.5463 - val_acc: 0.8171\n",
            "Epoch 2/10\n",
            "107/107 [==============================] - 31s 291ms/step - loss: 0.5165 - acc: 0.8251 - val_loss: 0.5119 - val_acc: 0.8430\n",
            "Epoch 3/10\n",
            "107/107 [==============================] - 30s 285ms/step - loss: 0.4400 - acc: 0.8495 - val_loss: 0.3664 - val_acc: 0.8714\n",
            "Epoch 4/10\n",
            "107/107 [==============================] - 31s 295ms/step - loss: 0.3850 - acc: 0.8646 - val_loss: 0.3313 - val_acc: 0.8871\n",
            "Epoch 5/10\n",
            "107/107 [==============================] - 31s 289ms/step - loss: 0.3357 - acc: 0.8809 - val_loss: 0.2953 - val_acc: 0.8972\n",
            "Epoch 6/10\n",
            "107/107 [==============================] - 31s 293ms/step - loss: 0.3061 - acc: 0.8902 - val_loss: 0.2587 - val_acc: 0.9064\n",
            "Epoch 7/10\n",
            "107/107 [==============================] - 31s 289ms/step - loss: 0.2757 - acc: 0.8986 - val_loss: 0.2121 - val_acc: 0.9274\n",
            "Epoch 8/10\n",
            "107/107 [==============================] - 31s 293ms/step - loss: 0.2370 - acc: 0.9122 - val_loss: 0.1938 - val_acc: 0.9289\n",
            "Epoch 9/10\n",
            "107/107 [==============================] - 31s 294ms/step - loss: 0.1995 - acc: 0.9249 - val_loss: 0.1571 - val_acc: 0.9428\n",
            "Epoch 10/10\n",
            "107/107 [==============================] - 32s 298ms/step - loss: 0.1647 - acc: 0.9401 - val_loss: 0.1199 - val_acc: 0.9605\n"
          ]
        },
        {
          "output_type": "execute_result",
          "data": {
            "text/plain": [
              "<keras.src.callbacks.History at 0x7ecad0105db0>"
            ]
          },
          "metadata": {},
          "execution_count": 11
        }
      ]
    },
    {
      "cell_type": "code",
      "source": [],
      "metadata": {
        "id": "LV1AGROQOstH"
      },
      "execution_count": 11,
      "outputs": []
    }
  ]
}